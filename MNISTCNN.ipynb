{
  "nbformat": 4,
  "nbformat_minor": 0,
  "metadata": {
    "colab": {
      "name": "MNISTCNN.ipynb",
      "provenance": [],
      "collapsed_sections": [],
      "machine_shape": "hm",
      "include_colab_link": true
    },
    "kernelspec": {
      "name": "python3",
      "display_name": "Python 3"
    },
    "language_info": {
      "name": "python"
    },
    "accelerator": "GPU"
  },
  "cells": [
    {
      "cell_type": "markdown",
      "metadata": {
        "id": "view-in-github",
        "colab_type": "text"
      },
      "source": [
        "<a href=\"https://colab.research.google.com/github/Mabalzich/MLFinalProject/blob/main/MNISTCNN.ipynb\" target=\"_parent\"><img src=\"https://colab.research.google.com/assets/colab-badge.svg\" alt=\"Open In Colab\"/></a>"
      ]
    },
    {
      "cell_type": "code",
      "execution_count": 21,
      "metadata": {
        "id": "Nt3oOBuLE2_x"
      },
      "outputs": [],
      "source": [
        "# imported libraries\n",
        "# a lot are similar to homework 4\n",
        "from tensorflow import keras\n",
        "from keras import optimizers\n",
        "from keras.datasets import mnist\n",
        "from keras.preprocessing.image import ImageDataGenerator\n",
        "from keras.models import Sequential, load_model\n",
        "from keras.layers import Dense, Dropout, Activation, Flatten\n",
        "from keras.layers import Conv1D, MaxPooling1D\n",
        "from keras.callbacks import ModelCheckpoint\n",
        "import math\n",
        "import numpy as np\n",
        "import matplotlib.pyplot as plt\n",
        "from keras.utils.np_utils import to_categorical\n",
        "from keras import backend as K"
      ]
    },
    {
      "cell_type": "code",
      "source": [
        "# parameters for this script\n",
        "batch_size = 32\n",
        "num_classes = 10\n",
        "epochs = 100\n",
        "learningrate = 0.0001"
      ],
      "metadata": {
        "id": "NjwPEbJcE97V"
      },
      "execution_count": 34,
      "outputs": []
    },
    {
      "cell_type": "code",
      "source": [
        "#recall function from keras documentation\n",
        "def recallscore(y_true, y_pred):\n",
        "    true_positives = K.sum(K.round(K.clip(y_true * y_pred, 0, 1)))\n",
        "    possible_positives = K.sum(K.round(K.clip(y_true, 0, 1)))\n",
        "    recall = true_positives / (possible_positives + K.epsilon())\n",
        "    return recall"
      ],
      "metadata": {
        "id": "5uLj3IMtlpfQ"
      },
      "execution_count": 23,
      "outputs": []
    },
    {
      "cell_type": "code",
      "source": [
        "#precision function from keras documentation\n",
        "def precisionscore(y_true, y_pred):\n",
        "    true_positives = K.sum(K.round(K.clip(y_true * y_pred, 0, 1)))\n",
        "    predicted_positives = K.sum(K.round(K.clip(y_pred, 0, 1)))\n",
        "    precision = true_positives / (predicted_positives + K.epsilon())\n",
        "    return precision"
      ],
      "metadata": {
        "id": "8pCHyJaIlsjn"
      },
      "execution_count": 24,
      "outputs": []
    },
    {
      "cell_type": "code",
      "source": [
        "#f1 score from keras documentation\n",
        "def f1score(y_true, y_pred):\n",
        "    precision = precisionscore(y_true, y_pred)\n",
        "    recall = recallscore(y_true, y_pred)\n",
        "    return 2*((precision*recall)/(precision+recall+K.epsilon()))"
      ],
      "metadata": {
        "id": "S7JF9Df6lvyQ"
      },
      "execution_count": 25,
      "outputs": []
    },
    {
      "cell_type": "code",
      "source": [
        "def generate_data():\n",
        "  # Load and read splited training and test data set\n",
        "  (x_train, y_train), (x_test, y_test) = mnist.load_data()  \n",
        "  print('x_train shape:', x_train.shape)\n",
        "  print(x_train.shape[0], 'train samples')\n",
        "  print(x_test.shape[0], 'test samples')\n",
        "\n",
        "  # Convert class vectors to binary class matrices.\n",
        "  y_train = to_categorical(y_train, num_classes)\n",
        "  y_test = to_categorical(y_test, num_classes)\n",
        "  # normalize the data\n",
        "  x_train = x_train.astype('float32')\n",
        "  x_test = x_test.astype('float32')\n",
        "  x_train /= 255\n",
        "  x_test /= 255\n",
        "\n",
        "  # partition training set into training and validation set\n",
        "  x_validate = x_train[50000:,:]\n",
        "  x_train = x_train[:50000,:]\n",
        "  y_validate = y_train[50000:,:]\n",
        "  y_train = y_train[:50000,:]\n",
        "\n",
        "  return x_train, y_train, x_validate, y_validate, x_test, y_test"
      ],
      "metadata": {
        "id": "MuudUbPcWILs"
      },
      "execution_count": 26,
      "outputs": []
    },
    {
      "cell_type": "code",
      "source": [
        "x_train, y_train, x_validate, y_validate, x_test, y_test = generate_data()"
      ],
      "metadata": {
        "id": "R_dTIugmMLdf",
        "colab": {
          "base_uri": "https://localhost:8080/"
        },
        "outputId": "b91e5ddc-ea2e-4bea-b891-24537c84aaea"
      },
      "execution_count": 27,
      "outputs": [
        {
          "output_type": "stream",
          "name": "stdout",
          "text": [
            "x_train shape: (60000, 28, 28)\n",
            "60000 train samples\n",
            "10000 test samples\n"
          ]
        }
      ]
    },
    {
      "cell_type": "code",
      "source": [
        "def base_cnn():\n",
        "  model = Sequential()\n",
        "\n",
        "  model.add(Conv1D(28, 3, padding='same',input_shape=x_train.shape[1:]))\n",
        "  model.add(Activation('relu'))\n",
        "  model.add(Conv1D(28, 3, padding='same'))\n",
        "  model.add(Activation('relu'))\n",
        "\n",
        "  model.add(MaxPooling1D(pool_size=2))\n",
        "\n",
        "  model.add(Dropout(0.25))\n",
        " \n",
        "  model.add(Conv1D(56, 3, padding='same'))\n",
        "  model.add(Activation('relu'))\n",
        "  model.add(Conv1D(56, 3, padding='same'))\n",
        "  model.add(Activation('relu'))\n",
        "\n",
        "  model.add(MaxPooling1D(pool_size=2))\n",
        "  model.add(Dropout(0.25))\n",
        "\n",
        "  model.add(Flatten())\n",
        "  model.add(Dense(512))\n",
        "  model.add(Activation('relu'))\n",
        "  model.add(Dropout(0.5))\n",
        "\n",
        "  model.add(Dense(num_classes))\n",
        "  model.add(Activation('softmax'))\n",
        "\n",
        "  opt = keras.optimizers.RMSprop(learning_rate=learningrate, decay=1e-6)\n",
        "\n",
        "  model.compile(loss='categorical_crossentropy',\n",
        "                optimizer=opt,\n",
        "                metrics=['accuracy', f1score, precisionscore, recallscore])\n",
        "  print(model.summary())\n",
        "\n",
        "  return model"
      ],
      "metadata": {
        "id": "1sxKGnJFFZtx"
      },
      "execution_count": 28,
      "outputs": []
    },
    {
      "cell_type": "code",
      "source": [
        "model =  base_cnn()\n",
        "fit = model.fit(x_train, y_train,\n",
        "                                batch_size=batch_size,\n",
        "                                epochs=epochs,\n",
        "                                validation_data=(x_validate, y_validate),\n",
        "                                shuffle=True)\n",
        "\n",
        "# Plot training accuracy\n",
        "plt.plot(fit.history['accuracy'], 'o-', label='CNN')\n",
        "\n",
        "plt.title('training accuracy')\n",
        "plt.ylabel('training accuracy')\n",
        "plt.xlabel('epoch')\n",
        "plt.legend(loc='best')\n",
        "plt.show()\n",
        "\n",
        "# Plot validation accuracy\n",
        "plt.plot(fit.history['val_accuracy'], 'o-', label='CNN')\n",
        "\n",
        "plt.title('validation accuracy')\n",
        "plt.ylabel('validation accuracy')\n",
        "plt.xlabel('epoch')\n",
        "plt.legend(loc='best')\n",
        "plt.show()\n",
        "\n",
        "# Plot f1 score\n",
        "plt.plot(fit.history['f1score'], 'o-', label='CNN')\n",
        "\n",
        "plt.title('f1 score')\n",
        "plt.ylabel('f1 score')\n",
        "plt.xlabel('epoch')\n",
        "plt.legend(loc='best')\n",
        "plt.show()\n",
        "\n",
        "# Plot precision\n",
        "plt.plot(fit.history['precisionscore'], 'o-', label='CNN')\n",
        "\n",
        "plt.title('precision')\n",
        "plt.ylabel('precision')\n",
        "plt.xlabel('epoch')\n",
        "plt.legend(loc='best')\n",
        "plt.show()\n",
        "\n",
        "# Plot recall\n",
        "plt.plot(fit.history['recallscore'], 'o-', label='CNN')\n",
        "\n",
        "plt.title('recall')\n",
        "plt.ylabel('recall')\n",
        "plt.xlabel('epoch')\n",
        "plt.legend(loc='best')\n",
        "plt.show()\n",
        "\n",
        "#Evaluate best model\n",
        "scores = model.evaluate(x_test, y_test, verbose=1)"
      ],
      "metadata": {
        "id": "EWrfKCbZLRdP",
        "colab": {
          "base_uri": "https://localhost:8080/",
          "height": 1000
        },
        "outputId": "ece35611-23a1-4e0c-a9cb-d3c0f2ddedad"
      },
      "execution_count": 35,
      "outputs": [
        {
          "output_type": "stream",
          "name": "stdout",
          "text": [
            "Model: \"sequential_6\"\n",
            "_________________________________________________________________\n",
            " Layer (type)                Output Shape              Param #   \n",
            "=================================================================\n",
            " conv1d_24 (Conv1D)          (None, 28, 28)            2380      \n",
            "                                                                 \n",
            " activation_36 (Activation)  (None, 28, 28)            0         \n",
            "                                                                 \n",
            " conv1d_25 (Conv1D)          (None, 28, 28)            2380      \n",
            "                                                                 \n",
            " activation_37 (Activation)  (None, 28, 28)            0         \n",
            "                                                                 \n",
            " max_pooling1d_12 (MaxPoolin  (None, 14, 28)           0         \n",
            " g1D)                                                            \n",
            "                                                                 \n",
            " dropout_18 (Dropout)        (None, 14, 28)            0         \n",
            "                                                                 \n",
            " conv1d_26 (Conv1D)          (None, 14, 56)            4760      \n",
            "                                                                 \n",
            " activation_38 (Activation)  (None, 14, 56)            0         \n",
            "                                                                 \n",
            " conv1d_27 (Conv1D)          (None, 14, 56)            9464      \n",
            "                                                                 \n",
            " activation_39 (Activation)  (None, 14, 56)            0         \n",
            "                                                                 \n",
            " max_pooling1d_13 (MaxPoolin  (None, 7, 56)            0         \n",
            " g1D)                                                            \n",
            "                                                                 \n",
            " dropout_19 (Dropout)        (None, 7, 56)             0         \n",
            "                                                                 \n",
            " flatten_6 (Flatten)         (None, 392)               0         \n",
            "                                                                 \n",
            " dense_12 (Dense)            (None, 512)               201216    \n",
            "                                                                 \n",
            " activation_40 (Activation)  (None, 512)               0         \n",
            "                                                                 \n",
            " dropout_20 (Dropout)        (None, 512)               0         \n",
            "                                                                 \n",
            " dense_13 (Dense)            (None, 10)                5130      \n",
            "                                                                 \n",
            " activation_41 (Activation)  (None, 10)                0         \n",
            "                                                                 \n",
            "=================================================================\n",
            "Total params: 225,330\n",
            "Trainable params: 225,330\n",
            "Non-trainable params: 0\n",
            "_________________________________________________________________\n",
            "None\n",
            "Epoch 1/100\n",
            "1563/1563 [==============================] - 15s 9ms/step - loss: 0.9832 - accuracy: 0.6806 - f1score: 0.6016 - precisionscore: 0.7443 - recallscore: 0.5320 - val_loss: 0.2900 - val_accuracy: 0.9132 - val_f1score: 0.9141 - val_precisionscore: 0.9416 - val_recallscore: 0.8891\n",
            "Epoch 2/100\n",
            "1563/1563 [==============================] - 13s 8ms/step - loss: 0.3879 - accuracy: 0.8812 - f1score: 0.8792 - precisionscore: 0.9110 - recallscore: 0.8506 - val_loss: 0.1821 - val_accuracy: 0.9457 - val_f1score: 0.9456 - val_precisionscore: 0.9583 - val_recallscore: 0.9335\n",
            "Epoch 3/100\n",
            "1563/1563 [==============================] - 13s 9ms/step - loss: 0.2766 - accuracy: 0.9157 - f1score: 0.9157 - precisionscore: 0.9327 - recallscore: 0.8998 - val_loss: 0.1345 - val_accuracy: 0.9595 - val_f1score: 0.9603 - val_precisionscore: 0.9680 - val_recallscore: 0.9530\n",
            "Epoch 4/100\n",
            "1563/1563 [==============================] - 13s 8ms/step - loss: 0.2252 - accuracy: 0.9318 - f1score: 0.9328 - precisionscore: 0.9451 - recallscore: 0.9212 - val_loss: 0.1155 - val_accuracy: 0.9662 - val_f1score: 0.9664 - val_precisionscore: 0.9727 - val_recallscore: 0.9604\n",
            "Epoch 5/100\n",
            "1563/1563 [==============================] - 13s 9ms/step - loss: 0.1881 - accuracy: 0.9426 - f1score: 0.9429 - precisionscore: 0.9526 - recallscore: 0.9337 - val_loss: 0.0987 - val_accuracy: 0.9712 - val_f1score: 0.9714 - val_precisionscore: 0.9769 - val_recallscore: 0.9662\n",
            "Epoch 6/100\n",
            "1563/1563 [==============================] - 13s 9ms/step - loss: 0.1638 - accuracy: 0.9492 - f1score: 0.9494 - precisionscore: 0.9576 - recallscore: 0.9416 - val_loss: 0.0873 - val_accuracy: 0.9753 - val_f1score: 0.9759 - val_precisionscore: 0.9803 - val_recallscore: 0.9716\n",
            "Epoch 7/100\n",
            "1563/1563 [==============================] - 13s 8ms/step - loss: 0.1508 - accuracy: 0.9541 - f1score: 0.9546 - precisionscore: 0.9618 - recallscore: 0.9476 - val_loss: 0.0814 - val_accuracy: 0.9765 - val_f1score: 0.9771 - val_precisionscore: 0.9811 - val_recallscore: 0.9732\n",
            "Epoch 8/100\n",
            "1563/1563 [==============================] - 13s 8ms/step - loss: 0.1357 - accuracy: 0.9579 - f1score: 0.9587 - precisionscore: 0.9649 - recallscore: 0.9529 - val_loss: 0.0764 - val_accuracy: 0.9786 - val_f1score: 0.9789 - val_precisionscore: 0.9816 - val_recallscore: 0.9762\n",
            "Epoch 9/100\n",
            "1563/1563 [==============================] - 13s 9ms/step - loss: 0.1271 - accuracy: 0.9604 - f1score: 0.9611 - precisionscore: 0.9668 - recallscore: 0.9557 - val_loss: 0.0732 - val_accuracy: 0.9793 - val_f1score: 0.9796 - val_precisionscore: 0.9822 - val_recallscore: 0.9770\n",
            "Epoch 10/100\n",
            "1563/1563 [==============================] - 13s 8ms/step - loss: 0.1201 - accuracy: 0.9630 - f1score: 0.9633 - precisionscore: 0.9682 - recallscore: 0.9585 - val_loss: 0.0724 - val_accuracy: 0.9783 - val_f1score: 0.9790 - val_precisionscore: 0.9813 - val_recallscore: 0.9767\n",
            "Epoch 11/100\n",
            "1563/1563 [==============================] - 13s 9ms/step - loss: 0.1128 - accuracy: 0.9647 - f1score: 0.9652 - precisionscore: 0.9697 - recallscore: 0.9609 - val_loss: 0.0692 - val_accuracy: 0.9799 - val_f1score: 0.9809 - val_precisionscore: 0.9837 - val_recallscore: 0.9782\n",
            "Epoch 12/100\n",
            "1563/1563 [==============================] - 13s 8ms/step - loss: 0.1072 - accuracy: 0.9665 - f1score: 0.9669 - precisionscore: 0.9712 - recallscore: 0.9627 - val_loss: 0.0641 - val_accuracy: 0.9821 - val_f1score: 0.9829 - val_precisionscore: 0.9851 - val_recallscore: 0.9807\n",
            "Epoch 13/100\n",
            "1563/1563 [==============================] - 13s 8ms/step - loss: 0.1045 - accuracy: 0.9670 - f1score: 0.9674 - precisionscore: 0.9715 - recallscore: 0.9634 - val_loss: 0.0637 - val_accuracy: 0.9824 - val_f1score: 0.9829 - val_precisionscore: 0.9851 - val_recallscore: 0.9808\n",
            "Epoch 14/100\n",
            "1563/1563 [==============================] - 13s 9ms/step - loss: 0.1001 - accuracy: 0.9682 - f1score: 0.9685 - precisionscore: 0.9723 - recallscore: 0.9649 - val_loss: 0.0606 - val_accuracy: 0.9823 - val_f1score: 0.9836 - val_precisionscore: 0.9864 - val_recallscore: 0.9809\n",
            "Epoch 15/100\n",
            "1563/1563 [==============================] - 14s 9ms/step - loss: 0.0975 - accuracy: 0.9696 - f1score: 0.9699 - precisionscore: 0.9733 - recallscore: 0.9667 - val_loss: 0.0591 - val_accuracy: 0.9841 - val_f1score: 0.9843 - val_precisionscore: 0.9862 - val_recallscore: 0.9825\n",
            "Epoch 16/100\n",
            "1563/1563 [==============================] - 13s 8ms/step - loss: 0.0911 - accuracy: 0.9724 - f1score: 0.9727 - precisionscore: 0.9759 - recallscore: 0.9695 - val_loss: 0.0593 - val_accuracy: 0.9840 - val_f1score: 0.9843 - val_precisionscore: 0.9861 - val_recallscore: 0.9825\n",
            "Epoch 17/100\n",
            "1563/1563 [==============================] - 13s 8ms/step - loss: 0.0882 - accuracy: 0.9721 - f1score: 0.9724 - precisionscore: 0.9753 - recallscore: 0.9695 - val_loss: 0.0573 - val_accuracy: 0.9842 - val_f1score: 0.9845 - val_precisionscore: 0.9866 - val_recallscore: 0.9825\n",
            "Epoch 18/100\n",
            "1563/1563 [==============================] - 14s 9ms/step - loss: 0.0868 - accuracy: 0.9733 - f1score: 0.9736 - precisionscore: 0.9764 - recallscore: 0.9709 - val_loss: 0.0566 - val_accuracy: 0.9848 - val_f1score: 0.9851 - val_precisionscore: 0.9868 - val_recallscore: 0.9835\n",
            "Epoch 19/100\n",
            "1563/1563 [==============================] - 13s 9ms/step - loss: 0.0860 - accuracy: 0.9742 - f1score: 0.9745 - precisionscore: 0.9772 - recallscore: 0.9720 - val_loss: 0.0555 - val_accuracy: 0.9843 - val_f1score: 0.9847 - val_precisionscore: 0.9869 - val_recallscore: 0.9825\n",
            "Epoch 20/100\n",
            "1563/1563 [==============================] - 13s 8ms/step - loss: 0.0847 - accuracy: 0.9740 - f1score: 0.9743 - precisionscore: 0.9769 - recallscore: 0.9716 - val_loss: 0.0530 - val_accuracy: 0.9856 - val_f1score: 0.9855 - val_precisionscore: 0.9873 - val_recallscore: 0.9837\n",
            "Epoch 21/100\n",
            "1563/1563 [==============================] - 13s 9ms/step - loss: 0.0811 - accuracy: 0.9749 - f1score: 0.9751 - precisionscore: 0.9779 - recallscore: 0.9724 - val_loss: 0.0533 - val_accuracy: 0.9853 - val_f1score: 0.9853 - val_precisionscore: 0.9874 - val_recallscore: 0.9832\n",
            "Epoch 22/100\n",
            "1563/1563 [==============================] - 13s 9ms/step - loss: 0.0792 - accuracy: 0.9759 - f1score: 0.9765 - precisionscore: 0.9790 - recallscore: 0.9741 - val_loss: 0.0528 - val_accuracy: 0.9860 - val_f1score: 0.9862 - val_precisionscore: 0.9877 - val_recallscore: 0.9848\n",
            "Epoch 23/100\n",
            "1563/1563 [==============================] - 13s 9ms/step - loss: 0.0764 - accuracy: 0.9768 - f1score: 0.9770 - precisionscore: 0.9792 - recallscore: 0.9747 - val_loss: 0.0525 - val_accuracy: 0.9849 - val_f1score: 0.9853 - val_precisionscore: 0.9870 - val_recallscore: 0.9836\n",
            "Epoch 24/100\n",
            "1563/1563 [==============================] - 14s 9ms/step - loss: 0.0783 - accuracy: 0.9764 - f1score: 0.9764 - precisionscore: 0.9791 - recallscore: 0.9738 - val_loss: 0.0521 - val_accuracy: 0.9856 - val_f1score: 0.9858 - val_precisionscore: 0.9874 - val_recallscore: 0.9843\n",
            "Epoch 25/100\n",
            "1563/1563 [==============================] - 14s 9ms/step - loss: 0.0766 - accuracy: 0.9759 - f1score: 0.9761 - precisionscore: 0.9787 - recallscore: 0.9736 - val_loss: 0.0515 - val_accuracy: 0.9853 - val_f1score: 0.9856 - val_precisionscore: 0.9872 - val_recallscore: 0.9841\n",
            "Epoch 26/100\n",
            "1563/1563 [==============================] - 13s 9ms/step - loss: 0.0755 - accuracy: 0.9769 - f1score: 0.9774 - precisionscore: 0.9796 - recallscore: 0.9753 - val_loss: 0.0529 - val_accuracy: 0.9843 - val_f1score: 0.9850 - val_precisionscore: 0.9875 - val_recallscore: 0.9827\n",
            "Epoch 27/100\n",
            "1563/1563 [==============================] - 13s 8ms/step - loss: 0.0758 - accuracy: 0.9766 - f1score: 0.9771 - precisionscore: 0.9797 - recallscore: 0.9747 - val_loss: 0.0500 - val_accuracy: 0.9859 - val_f1score: 0.9860 - val_precisionscore: 0.9879 - val_recallscore: 0.9842\n",
            "Epoch 28/100\n",
            "1563/1563 [==============================] - 13s 9ms/step - loss: 0.0725 - accuracy: 0.9779 - f1score: 0.9782 - precisionscore: 0.9803 - recallscore: 0.9761 - val_loss: 0.0495 - val_accuracy: 0.9863 - val_f1score: 0.9861 - val_precisionscore: 0.9881 - val_recallscore: 0.9842\n",
            "Epoch 29/100\n",
            "1563/1563 [==============================] - 13s 8ms/step - loss: 0.0703 - accuracy: 0.9780 - f1score: 0.9782 - precisionscore: 0.9803 - recallscore: 0.9763 - val_loss: 0.0512 - val_accuracy: 0.9867 - val_f1score: 0.9867 - val_precisionscore: 0.9884 - val_recallscore: 0.9851\n",
            "Epoch 30/100\n",
            "1563/1563 [==============================] - 13s 8ms/step - loss: 0.0710 - accuracy: 0.9790 - f1score: 0.9792 - precisionscore: 0.9813 - recallscore: 0.9771 - val_loss: 0.0495 - val_accuracy: 0.9861 - val_f1score: 0.9863 - val_precisionscore: 0.9878 - val_recallscore: 0.9849\n",
            "Epoch 31/100\n",
            "1563/1563 [==============================] - 13s 9ms/step - loss: 0.0703 - accuracy: 0.9792 - f1score: 0.9794 - precisionscore: 0.9814 - recallscore: 0.9774 - val_loss: 0.0495 - val_accuracy: 0.9870 - val_f1score: 0.9867 - val_precisionscore: 0.9880 - val_recallscore: 0.9854\n",
            "Epoch 32/100\n",
            "1563/1563 [==============================] - 13s 8ms/step - loss: 0.0687 - accuracy: 0.9794 - f1score: 0.9796 - precisionscore: 0.9816 - recallscore: 0.9777 - val_loss: 0.0490 - val_accuracy: 0.9858 - val_f1score: 0.9859 - val_precisionscore: 0.9874 - val_recallscore: 0.9844\n",
            "Epoch 33/100\n",
            "1563/1563 [==============================] - 14s 9ms/step - loss: 0.0684 - accuracy: 0.9787 - f1score: 0.9790 - precisionscore: 0.9809 - recallscore: 0.9771 - val_loss: 0.0491 - val_accuracy: 0.9869 - val_f1score: 0.9866 - val_precisionscore: 0.9883 - val_recallscore: 0.9849\n",
            "Epoch 34/100\n",
            "1563/1563 [==============================] - 13s 9ms/step - loss: 0.0698 - accuracy: 0.9788 - f1score: 0.9791 - precisionscore: 0.9813 - recallscore: 0.9771 - val_loss: 0.0495 - val_accuracy: 0.9860 - val_f1score: 0.9862 - val_precisionscore: 0.9879 - val_recallscore: 0.9846\n",
            "Epoch 35/100\n",
            "1563/1563 [==============================] - 13s 9ms/step - loss: 0.0670 - accuracy: 0.9798 - f1score: 0.9800 - precisionscore: 0.9821 - recallscore: 0.9780 - val_loss: 0.0467 - val_accuracy: 0.9872 - val_f1score: 0.9874 - val_precisionscore: 0.9893 - val_recallscore: 0.9855\n",
            "Epoch 36/100\n",
            "1563/1563 [==============================] - 14s 9ms/step - loss: 0.0661 - accuracy: 0.9800 - f1score: 0.9803 - precisionscore: 0.9820 - recallscore: 0.9785 - val_loss: 0.0474 - val_accuracy: 0.9875 - val_f1score: 0.9875 - val_precisionscore: 0.9895 - val_recallscore: 0.9855\n",
            "Epoch 37/100\n",
            "1563/1563 [==============================] - 14s 9ms/step - loss: 0.0656 - accuracy: 0.9798 - f1score: 0.9801 - precisionscore: 0.9822 - recallscore: 0.9781 - val_loss: 0.0506 - val_accuracy: 0.9862 - val_f1score: 0.9862 - val_precisionscore: 0.9878 - val_recallscore: 0.9847\n",
            "Epoch 38/100\n",
            "1563/1563 [==============================] - 13s 9ms/step - loss: 0.0648 - accuracy: 0.9797 - f1score: 0.9802 - precisionscore: 0.9820 - recallscore: 0.9785 - val_loss: 0.0475 - val_accuracy: 0.9867 - val_f1score: 0.9869 - val_precisionscore: 0.9885 - val_recallscore: 0.9854\n",
            "Epoch 39/100\n",
            "1563/1563 [==============================] - 13s 9ms/step - loss: 0.0663 - accuracy: 0.9794 - f1score: 0.9797 - precisionscore: 0.9815 - recallscore: 0.9778 - val_loss: 0.0501 - val_accuracy: 0.9865 - val_f1score: 0.9868 - val_precisionscore: 0.9881 - val_recallscore: 0.9855\n",
            "Epoch 40/100\n",
            "1563/1563 [==============================] - 13s 9ms/step - loss: 0.0649 - accuracy: 0.9805 - f1score: 0.9807 - precisionscore: 0.9825 - recallscore: 0.9790 - val_loss: 0.0477 - val_accuracy: 0.9873 - val_f1score: 0.9876 - val_precisionscore: 0.9895 - val_recallscore: 0.9858\n",
            "Epoch 41/100\n",
            "1563/1563 [==============================] - 13s 9ms/step - loss: 0.0616 - accuracy: 0.9814 - f1score: 0.9816 - precisionscore: 0.9834 - recallscore: 0.9799 - val_loss: 0.0466 - val_accuracy: 0.9874 - val_f1score: 0.9876 - val_precisionscore: 0.9892 - val_recallscore: 0.9860\n",
            "Epoch 42/100\n",
            "1563/1563 [==============================] - 14s 9ms/step - loss: 0.0634 - accuracy: 0.9811 - f1score: 0.9814 - precisionscore: 0.9832 - recallscore: 0.9797 - val_loss: 0.0466 - val_accuracy: 0.9872 - val_f1score: 0.9873 - val_precisionscore: 0.9892 - val_recallscore: 0.9854\n",
            "Epoch 43/100\n",
            "1563/1563 [==============================] - 14s 9ms/step - loss: 0.0630 - accuracy: 0.9805 - f1score: 0.9806 - precisionscore: 0.9822 - recallscore: 0.9791 - val_loss: 0.0493 - val_accuracy: 0.9855 - val_f1score: 0.9860 - val_precisionscore: 0.9877 - val_recallscore: 0.9843\n",
            "Epoch 44/100\n",
            "1563/1563 [==============================] - 13s 8ms/step - loss: 0.0641 - accuracy: 0.9811 - f1score: 0.9812 - precisionscore: 0.9829 - recallscore: 0.9795 - val_loss: 0.0456 - val_accuracy: 0.9872 - val_f1score: 0.9870 - val_precisionscore: 0.9894 - val_recallscore: 0.9847\n",
            "Epoch 45/100\n",
            "1563/1563 [==============================] - 13s 9ms/step - loss: 0.0615 - accuracy: 0.9812 - f1score: 0.9815 - precisionscore: 0.9831 - recallscore: 0.9800 - val_loss: 0.0479 - val_accuracy: 0.9867 - val_f1score: 0.9868 - val_precisionscore: 0.9887 - val_recallscore: 0.9849\n",
            "Epoch 46/100\n",
            "1563/1563 [==============================] - 13s 9ms/step - loss: 0.0616 - accuracy: 0.9815 - f1score: 0.9817 - precisionscore: 0.9834 - recallscore: 0.9800 - val_loss: 0.0467 - val_accuracy: 0.9874 - val_f1score: 0.9875 - val_precisionscore: 0.9897 - val_recallscore: 0.9854\n",
            "Epoch 47/100\n",
            "1563/1563 [==============================] - 14s 9ms/step - loss: 0.0634 - accuracy: 0.9813 - f1score: 0.9815 - precisionscore: 0.9832 - recallscore: 0.9798 - val_loss: 0.0449 - val_accuracy: 0.9872 - val_f1score: 0.9874 - val_precisionscore: 0.9893 - val_recallscore: 0.9856\n",
            "Epoch 48/100\n",
            "1563/1563 [==============================] - 14s 9ms/step - loss: 0.0648 - accuracy: 0.9804 - f1score: 0.9805 - precisionscore: 0.9825 - recallscore: 0.9786 - val_loss: 0.0489 - val_accuracy: 0.9870 - val_f1score: 0.9873 - val_precisionscore: 0.9892 - val_recallscore: 0.9854\n",
            "Epoch 49/100\n",
            "1563/1563 [==============================] - 13s 8ms/step - loss: 0.0609 - accuracy: 0.9820 - f1score: 0.9821 - precisionscore: 0.9838 - recallscore: 0.9805 - val_loss: 0.0468 - val_accuracy: 0.9872 - val_f1score: 0.9871 - val_precisionscore: 0.9892 - val_recallscore: 0.9851\n",
            "Epoch 50/100\n",
            "1563/1563 [==============================] - 13s 9ms/step - loss: 0.0618 - accuracy: 0.9816 - f1score: 0.9816 - precisionscore: 0.9833 - recallscore: 0.9800 - val_loss: 0.0448 - val_accuracy: 0.9887 - val_f1score: 0.9885 - val_precisionscore: 0.9900 - val_recallscore: 0.9870\n",
            "Epoch 51/100\n",
            "1563/1563 [==============================] - 13s 9ms/step - loss: 0.0610 - accuracy: 0.9821 - f1score: 0.9824 - precisionscore: 0.9837 - recallscore: 0.9810 - val_loss: 0.0530 - val_accuracy: 0.9855 - val_f1score: 0.9854 - val_precisionscore: 0.9878 - val_recallscore: 0.9831\n",
            "Epoch 52/100\n",
            "1563/1563 [==============================] - 13s 8ms/step - loss: 0.0629 - accuracy: 0.9812 - f1score: 0.9813 - precisionscore: 0.9831 - recallscore: 0.9796 - val_loss: 0.0491 - val_accuracy: 0.9855 - val_f1score: 0.9857 - val_precisionscore: 0.9873 - val_recallscore: 0.9841\n",
            "Epoch 53/100\n",
            "1563/1563 [==============================] - 13s 9ms/step - loss: 0.0630 - accuracy: 0.9819 - f1score: 0.9821 - precisionscore: 0.9836 - recallscore: 0.9806 - val_loss: 0.0469 - val_accuracy: 0.9870 - val_f1score: 0.9868 - val_precisionscore: 0.9884 - val_recallscore: 0.9853\n",
            "Epoch 54/100\n",
            "1563/1563 [==============================] - 13s 9ms/step - loss: 0.0628 - accuracy: 0.9812 - f1score: 0.9814 - precisionscore: 0.9831 - recallscore: 0.9797 - val_loss: 0.0524 - val_accuracy: 0.9850 - val_f1score: 0.9853 - val_precisionscore: 0.9874 - val_recallscore: 0.9833\n",
            "Epoch 55/100\n",
            "1563/1563 [==============================] - 13s 9ms/step - loss: 0.0629 - accuracy: 0.9814 - f1score: 0.9818 - precisionscore: 0.9836 - recallscore: 0.9800 - val_loss: 0.0537 - val_accuracy: 0.9860 - val_f1score: 0.9850 - val_precisionscore: 0.9879 - val_recallscore: 0.9823\n",
            "Epoch 56/100\n",
            "1563/1563 [==============================] - 14s 9ms/step - loss: 0.0619 - accuracy: 0.9814 - f1score: 0.9816 - precisionscore: 0.9833 - recallscore: 0.9799 - val_loss: 0.0486 - val_accuracy: 0.9871 - val_f1score: 0.9869 - val_precisionscore: 0.9889 - val_recallscore: 0.9850\n",
            "Epoch 57/100\n",
            "1563/1563 [==============================] - 14s 9ms/step - loss: 0.0610 - accuracy: 0.9823 - f1score: 0.9822 - precisionscore: 0.9835 - recallscore: 0.9810 - val_loss: 0.0509 - val_accuracy: 0.9855 - val_f1score: 0.9855 - val_precisionscore: 0.9881 - val_recallscore: 0.9830\n",
            "Epoch 58/100\n",
            "1563/1563 [==============================] - 13s 9ms/step - loss: 0.0621 - accuracy: 0.9822 - f1score: 0.9821 - precisionscore: 0.9837 - recallscore: 0.9805 - val_loss: 0.0491 - val_accuracy: 0.9858 - val_f1score: 0.9860 - val_precisionscore: 0.9882 - val_recallscore: 0.9839\n",
            "Epoch 59/100\n",
            "1563/1563 [==============================] - 13s 9ms/step - loss: 0.0607 - accuracy: 0.9818 - f1score: 0.9820 - precisionscore: 0.9837 - recallscore: 0.9804 - val_loss: 0.0510 - val_accuracy: 0.9868 - val_f1score: 0.9863 - val_precisionscore: 0.9883 - val_recallscore: 0.9844\n",
            "Epoch 60/100\n",
            "1563/1563 [==============================] - 14s 9ms/step - loss: 0.0613 - accuracy: 0.9822 - f1score: 0.9825 - precisionscore: 0.9840 - recallscore: 0.9810 - val_loss: 0.0497 - val_accuracy: 0.9864 - val_f1score: 0.9867 - val_precisionscore: 0.9890 - val_recallscore: 0.9844\n",
            "Epoch 61/100\n",
            "1563/1563 [==============================] - 13s 8ms/step - loss: 0.0626 - accuracy: 0.9816 - f1score: 0.9816 - precisionscore: 0.9831 - recallscore: 0.9801 - val_loss: 0.0514 - val_accuracy: 0.9864 - val_f1score: 0.9866 - val_precisionscore: 0.9885 - val_recallscore: 0.9848\n",
            "Epoch 62/100\n",
            "1563/1563 [==============================] - 14s 9ms/step - loss: 0.0614 - accuracy: 0.9824 - f1score: 0.9823 - precisionscore: 0.9841 - recallscore: 0.9806 - val_loss: 0.0531 - val_accuracy: 0.9849 - val_f1score: 0.9847 - val_precisionscore: 0.9878 - val_recallscore: 0.9817\n",
            "Epoch 63/100\n",
            "1563/1563 [==============================] - 13s 9ms/step - loss: 0.0634 - accuracy: 0.9822 - f1score: 0.9821 - precisionscore: 0.9839 - recallscore: 0.9804 - val_loss: 0.0524 - val_accuracy: 0.9853 - val_f1score: 0.9856 - val_precisionscore: 0.9884 - val_recallscore: 0.9828\n",
            "Epoch 64/100\n",
            "1563/1563 [==============================] - 13s 9ms/step - loss: 0.0614 - accuracy: 0.9823 - f1score: 0.9824 - precisionscore: 0.9839 - recallscore: 0.9810 - val_loss: 0.0533 - val_accuracy: 0.9867 - val_f1score: 0.9861 - val_precisionscore: 0.9883 - val_recallscore: 0.9839\n",
            "Epoch 65/100\n",
            "1563/1563 [==============================] - 14s 9ms/step - loss: 0.0638 - accuracy: 0.9815 - f1score: 0.9815 - precisionscore: 0.9830 - recallscore: 0.9801 - val_loss: 0.0532 - val_accuracy: 0.9861 - val_f1score: 0.9857 - val_precisionscore: 0.9890 - val_recallscore: 0.9824\n",
            "Epoch 66/100\n",
            "1563/1563 [==============================] - 13s 8ms/step - loss: 0.0600 - accuracy: 0.9828 - f1score: 0.9827 - precisionscore: 0.9842 - recallscore: 0.9813 - val_loss: 0.0492 - val_accuracy: 0.9868 - val_f1score: 0.9864 - val_precisionscore: 0.9886 - val_recallscore: 0.9842\n",
            "Epoch 67/100\n",
            "1563/1563 [==============================] - 13s 9ms/step - loss: 0.0605 - accuracy: 0.9826 - f1score: 0.9829 - precisionscore: 0.9843 - recallscore: 0.9816 - val_loss: 0.0512 - val_accuracy: 0.9861 - val_f1score: 0.9866 - val_precisionscore: 0.9893 - val_recallscore: 0.9840\n",
            "Epoch 68/100\n",
            "1563/1563 [==============================] - 14s 9ms/step - loss: 0.0653 - accuracy: 0.9821 - f1score: 0.9823 - precisionscore: 0.9840 - recallscore: 0.9806 - val_loss: 0.0487 - val_accuracy: 0.9879 - val_f1score: 0.9875 - val_precisionscore: 0.9899 - val_recallscore: 0.9853\n",
            "Epoch 69/100\n",
            "1563/1563 [==============================] - 14s 9ms/step - loss: 0.0644 - accuracy: 0.9824 - f1score: 0.9825 - precisionscore: 0.9841 - recallscore: 0.9810 - val_loss: 0.0590 - val_accuracy: 0.9860 - val_f1score: 0.9838 - val_precisionscore: 0.9891 - val_recallscore: 0.9787\n",
            "Epoch 70/100\n",
            "1563/1563 [==============================] - 14s 9ms/step - loss: 0.0635 - accuracy: 0.9821 - f1score: 0.9823 - precisionscore: 0.9840 - recallscore: 0.9807 - val_loss: 0.0533 - val_accuracy: 0.9863 - val_f1score: 0.9856 - val_precisionscore: 0.9888 - val_recallscore: 0.9825\n",
            "Epoch 71/100\n",
            "1563/1563 [==============================] - 13s 9ms/step - loss: 0.0636 - accuracy: 0.9824 - f1score: 0.9823 - precisionscore: 0.9838 - recallscore: 0.9809 - val_loss: 0.0633 - val_accuracy: 0.9847 - val_f1score: 0.9828 - val_precisionscore: 0.9886 - val_recallscore: 0.9773\n",
            "Epoch 72/100\n",
            "1563/1563 [==============================] - 14s 9ms/step - loss: 0.0631 - accuracy: 0.9827 - f1score: 0.9826 - precisionscore: 0.9842 - recallscore: 0.9811 - val_loss: 0.0619 - val_accuracy: 0.9837 - val_f1score: 0.9831 - val_precisionscore: 0.9868 - val_recallscore: 0.9794\n",
            "Epoch 73/100\n",
            "1563/1563 [==============================] - 14s 9ms/step - loss: 0.0669 - accuracy: 0.9816 - f1score: 0.9815 - precisionscore: 0.9831 - recallscore: 0.9798 - val_loss: 0.0532 - val_accuracy: 0.9868 - val_f1score: 0.9857 - val_precisionscore: 0.9890 - val_recallscore: 0.9825\n",
            "Epoch 74/100\n",
            "1563/1563 [==============================] - 14s 9ms/step - loss: 0.0605 - accuracy: 0.9826 - f1score: 0.9826 - precisionscore: 0.9842 - recallscore: 0.9810 - val_loss: 0.0485 - val_accuracy: 0.9874 - val_f1score: 0.9871 - val_precisionscore: 0.9892 - val_recallscore: 0.9850\n",
            "Epoch 75/100\n",
            "1563/1563 [==============================] - 14s 9ms/step - loss: 0.0630 - accuracy: 0.9823 - f1score: 0.9825 - precisionscore: 0.9841 - recallscore: 0.9809 - val_loss: 0.0548 - val_accuracy: 0.9864 - val_f1score: 0.9856 - val_precisionscore: 0.9888 - val_recallscore: 0.9824\n",
            "Epoch 76/100\n",
            "1563/1563 [==============================] - 14s 9ms/step - loss: 0.0620 - accuracy: 0.9826 - f1score: 0.9825 - precisionscore: 0.9840 - recallscore: 0.9810 - val_loss: 0.0506 - val_accuracy: 0.9866 - val_f1score: 0.9863 - val_precisionscore: 0.9895 - val_recallscore: 0.9831\n",
            "Epoch 77/100\n",
            "1563/1563 [==============================] - 14s 9ms/step - loss: 0.0651 - accuracy: 0.9815 - f1score: 0.9816 - precisionscore: 0.9833 - recallscore: 0.9798 - val_loss: 0.0517 - val_accuracy: 0.9869 - val_f1score: 0.9862 - val_precisionscore: 0.9894 - val_recallscore: 0.9831\n",
            "Epoch 78/100\n",
            "1563/1563 [==============================] - 13s 9ms/step - loss: 0.0673 - accuracy: 0.9816 - f1score: 0.9819 - precisionscore: 0.9838 - recallscore: 0.9800 - val_loss: 0.0557 - val_accuracy: 0.9860 - val_f1score: 0.9851 - val_precisionscore: 0.9896 - val_recallscore: 0.9807\n",
            "Epoch 79/100\n",
            "1563/1563 [==============================] - 14s 9ms/step - loss: 0.0653 - accuracy: 0.9812 - f1score: 0.9816 - precisionscore: 0.9832 - recallscore: 0.9800 - val_loss: 0.0586 - val_accuracy: 0.9851 - val_f1score: 0.9843 - val_precisionscore: 0.9889 - val_recallscore: 0.9799\n",
            "Epoch 80/100\n",
            "1563/1563 [==============================] - 14s 9ms/step - loss: 0.0647 - accuracy: 0.9821 - f1score: 0.9820 - precisionscore: 0.9835 - recallscore: 0.9805 - val_loss: 0.0621 - val_accuracy: 0.9833 - val_f1score: 0.9833 - val_precisionscore: 0.9878 - val_recallscore: 0.9789\n",
            "Epoch 81/100\n",
            "1563/1563 [==============================] - 14s 9ms/step - loss: 0.0669 - accuracy: 0.9804 - f1score: 0.9804 - precisionscore: 0.9823 - recallscore: 0.9786 - val_loss: 0.0562 - val_accuracy: 0.9852 - val_f1score: 0.9850 - val_precisionscore: 0.9877 - val_recallscore: 0.9823\n",
            "Epoch 82/100\n",
            "1563/1563 [==============================] - 14s 9ms/step - loss: 0.0641 - accuracy: 0.9818 - f1score: 0.9819 - precisionscore: 0.9834 - recallscore: 0.9805 - val_loss: 0.0500 - val_accuracy: 0.9874 - val_f1score: 0.9869 - val_precisionscore: 0.9897 - val_recallscore: 0.9843\n",
            "Epoch 83/100\n",
            "1563/1563 [==============================] - 14s 9ms/step - loss: 0.0667 - accuracy: 0.9817 - f1score: 0.9818 - precisionscore: 0.9834 - recallscore: 0.9803 - val_loss: 0.0644 - val_accuracy: 0.9852 - val_f1score: 0.9830 - val_precisionscore: 0.9892 - val_recallscore: 0.9771\n",
            "Epoch 84/100\n",
            "1563/1563 [==============================] - 14s 9ms/step - loss: 0.0652 - accuracy: 0.9823 - f1score: 0.9823 - precisionscore: 0.9838 - recallscore: 0.9808 - val_loss: 0.0548 - val_accuracy: 0.9868 - val_f1score: 0.9858 - val_precisionscore: 0.9891 - val_recallscore: 0.9825\n",
            "Epoch 85/100\n",
            "1563/1563 [==============================] - 13s 9ms/step - loss: 0.0674 - accuracy: 0.9815 - f1score: 0.9816 - precisionscore: 0.9833 - recallscore: 0.9800 - val_loss: 0.0528 - val_accuracy: 0.9852 - val_f1score: 0.9852 - val_precisionscore: 0.9880 - val_recallscore: 0.9825\n",
            "Epoch 86/100\n",
            "1563/1563 [==============================] - 13s 9ms/step - loss: 0.0683 - accuracy: 0.9819 - f1score: 0.9819 - precisionscore: 0.9834 - recallscore: 0.9804 - val_loss: 0.0593 - val_accuracy: 0.9850 - val_f1score: 0.9836 - val_precisionscore: 0.9890 - val_recallscore: 0.9784\n",
            "Epoch 87/100\n",
            "1563/1563 [==============================] - 14s 9ms/step - loss: 0.0635 - accuracy: 0.9823 - f1score: 0.9824 - precisionscore: 0.9839 - recallscore: 0.9810 - val_loss: 0.0570 - val_accuracy: 0.9855 - val_f1score: 0.9843 - val_precisionscore: 0.9879 - val_recallscore: 0.9807\n",
            "Epoch 88/100\n",
            "1563/1563 [==============================] - 14s 9ms/step - loss: 0.0666 - accuracy: 0.9822 - f1score: 0.9822 - precisionscore: 0.9838 - recallscore: 0.9807 - val_loss: 0.0557 - val_accuracy: 0.9856 - val_f1score: 0.9847 - val_precisionscore: 0.9894 - val_recallscore: 0.9802\n",
            "Epoch 89/100\n",
            "1563/1563 [==============================] - 14s 9ms/step - loss: 0.0680 - accuracy: 0.9821 - f1score: 0.9820 - precisionscore: 0.9836 - recallscore: 0.9804 - val_loss: 0.0562 - val_accuracy: 0.9853 - val_f1score: 0.9853 - val_precisionscore: 0.9889 - val_recallscore: 0.9817\n",
            "Epoch 90/100\n",
            "1563/1563 [==============================] - 13s 9ms/step - loss: 0.0678 - accuracy: 0.9814 - f1score: 0.9813 - precisionscore: 0.9829 - recallscore: 0.9798 - val_loss: 0.0618 - val_accuracy: 0.9857 - val_f1score: 0.9839 - val_precisionscore: 0.9899 - val_recallscore: 0.9781\n",
            "Epoch 91/100\n",
            "1563/1563 [==============================] - 13s 9ms/step - loss: 0.0671 - accuracy: 0.9819 - f1score: 0.9817 - precisionscore: 0.9835 - recallscore: 0.9800 - val_loss: 0.0656 - val_accuracy: 0.9835 - val_f1score: 0.9820 - val_precisionscore: 0.9873 - val_recallscore: 0.9770\n",
            "Epoch 92/100\n",
            "1563/1563 [==============================] - 14s 9ms/step - loss: 0.0674 - accuracy: 0.9809 - f1score: 0.9812 - precisionscore: 0.9829 - recallscore: 0.9796 - val_loss: 0.0597 - val_accuracy: 0.9843 - val_f1score: 0.9834 - val_precisionscore: 0.9879 - val_recallscore: 0.9791\n",
            "Epoch 93/100\n",
            "1563/1563 [==============================] - 14s 9ms/step - loss: 0.0666 - accuracy: 0.9808 - f1score: 0.9809 - precisionscore: 0.9828 - recallscore: 0.9791 - val_loss: 0.0578 - val_accuracy: 0.9855 - val_f1score: 0.9841 - val_precisionscore: 0.9890 - val_recallscore: 0.9794\n",
            "Epoch 94/100\n",
            "1563/1563 [==============================] - 14s 9ms/step - loss: 0.0648 - accuracy: 0.9818 - f1score: 0.9820 - precisionscore: 0.9836 - recallscore: 0.9804 - val_loss: 0.0572 - val_accuracy: 0.9857 - val_f1score: 0.9845 - val_precisionscore: 0.9890 - val_recallscore: 0.9802\n",
            "Epoch 95/100\n",
            "1563/1563 [==============================] - 14s 9ms/step - loss: 0.0665 - accuracy: 0.9811 - f1score: 0.9810 - precisionscore: 0.9828 - recallscore: 0.9792 - val_loss: 0.0581 - val_accuracy: 0.9852 - val_f1score: 0.9848 - val_precisionscore: 0.9884 - val_recallscore: 0.9812\n",
            "Epoch 96/100\n",
            "1563/1563 [==============================] - 14s 9ms/step - loss: 0.0671 - accuracy: 0.9818 - f1score: 0.9820 - precisionscore: 0.9838 - recallscore: 0.9803 - val_loss: 0.0662 - val_accuracy: 0.9850 - val_f1score: 0.9835 - val_precisionscore: 0.9895 - val_recallscore: 0.9777\n",
            "Epoch 97/100\n",
            "1563/1563 [==============================] - 14s 9ms/step - loss: 0.0700 - accuracy: 0.9807 - f1score: 0.9806 - precisionscore: 0.9826 - recallscore: 0.9787 - val_loss: 0.0576 - val_accuracy: 0.9856 - val_f1score: 0.9849 - val_precisionscore: 0.9890 - val_recallscore: 0.9810\n",
            "Epoch 98/100\n",
            "1563/1563 [==============================] - 14s 9ms/step - loss: 0.0701 - accuracy: 0.9806 - f1score: 0.9806 - precisionscore: 0.9823 - recallscore: 0.9790 - val_loss: 0.0568 - val_accuracy: 0.9849 - val_f1score: 0.9846 - val_precisionscore: 0.9885 - val_recallscore: 0.9809\n",
            "Epoch 99/100\n",
            "1563/1563 [==============================] - 14s 9ms/step - loss: 0.0717 - accuracy: 0.9805 - f1score: 0.9804 - precisionscore: 0.9823 - recallscore: 0.9786 - val_loss: 0.0573 - val_accuracy: 0.9867 - val_f1score: 0.9851 - val_precisionscore: 0.9894 - val_recallscore: 0.9809\n",
            "Epoch 100/100\n",
            "1563/1563 [==============================] - 14s 9ms/step - loss: 0.0680 - accuracy: 0.9813 - f1score: 0.9813 - precisionscore: 0.9830 - recallscore: 0.9796 - val_loss: 0.0751 - val_accuracy: 0.9819 - val_f1score: 0.9787 - val_precisionscore: 0.9871 - val_recallscore: 0.9707\n"
          ]
        },
        {
          "output_type": "display_data",
          "data": {
            "text/plain": [
              "<Figure size 432x288 with 1 Axes>"
            ],
            "image/png": "[encoded data removed]"
          },
          "metadata": {
            "needs_background": "light"
          }
        },
        {
          "output_type": "display_data",
          "data": {
            "text/plain": [
              "<Figure size 432x288 with 1 Axes>"
            ],
            "image/png": "[encoded data removed]"
          },
          "metadata": {
            "needs_background": "light"
          }
        },
        {
          "output_type": "display_data",
          "data": {
            "text/plain": [
              "<Figure size 432x288 with 1 Axes>"
            ],
            "image/png": "[encoded data removed]"
          },
          "metadata": {
            "needs_background": "light"
          }
        },
        {
          "output_type": "display_data",
          "data": {
            "text/plain": [
              "<Figure size 432x288 with 1 Axes>"
            ],
            "image/png": "[encoded data removed]"
          },
          "metadata": {
            "needs_background": "light"
          }
        },
        {
          "output_type": "display_data",
          "data": {
            "text/plain": [
              "<Figure size 432x288 with 1 Axes>"
            ],
            "image/png": "[encoded data removed]"
          },
          "metadata": {
            "needs_background": "light"
          }
        },
        {
          "output_type": "stream",
          "name": "stdout",
          "text": [
            "313/313 [==============================] - 2s 5ms/step - loss: 0.0682 - accuracy: 0.9833 - f1score: 0.9802 - precisionscore: 0.9888 - recallscore: 0.9721\n"
          ]
        }
      ]
    }
  ]
}